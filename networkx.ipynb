{
 "cells": [
  {
   "cell_type": "code",
   "execution_count": 115,
   "metadata": {},
   "outputs": [
    {
     "name": "stdout",
     "output_type": "stream",
     "text": [
      "- [g] Add syntax highlighting for Cannonball markdown ^feature3\n",
      "\t- [?] Which library should we use for highlighting? ^q1\n",
      "\t\t- [a] Use Prism.js ^alt1\n",
      "\t\t\t- [o] Has good React integration\n",
      "\t\t\t- [P] May need custom language definition\n",
      "\t\t\t\t- [ ] Research custom grammar in Prism\n",
      "\t\t- [a] Use highlight.js ^alt2\n",
      "\t\t\t- [o] More lightweight\n",
      "\t\t\t- [o] Easier to customize\n",
      "\t\t- [D] Selected ^alt2\n",
      "\t- [ ] Implement syntax highlighting component\n",
      "\t\t- This will be a React component\n",
      "\t\t- [/] Create basic highlighter class\n",
      "\t\t- [ ] Add custom rules for node types\n",
      "\t\t- [ ] Connect to rendering pipeline\n",
      "\t- [I] Could add visual indicators for different node states\n",
      "\t- [ ] Write tests for highlighting edge cases\n",
      "\n"
     ]
    }
   ],
   "source": [
    "# Define example markdown\n",
    "\n",
    "markdown = \"\"\"\\\n",
    "- [g] Add syntax highlighting for Cannonball markdown ^feature3\n",
    "\t- [?] Which library should we use for highlighting? ^q1\n",
    "\t\t- [a] Use Prism.js ^alt1\n",
    "\t\t\t- [o] Has good React integration\n",
    "\t\t\t- [P] May need custom language definition\n",
    "\t\t\t\t- [ ] Research custom grammar in Prism\n",
    "\t\t- [a] Use highlight.js ^alt2\n",
    "\t\t\t- [o] More lightweight\n",
    "\t\t\t- [o] Easier to customize\n",
    "\t\t- [D] Selected ^alt2\n",
    "\t- [ ] Implement syntax highlighting component\n",
    "\t\t- This will be a React component\n",
    "\t\t- [/] Create basic highlighter class\n",
    "\t\t- [ ] Add custom rules for node types\n",
    "\t\t- [ ] Connect to rendering pipeline\n",
    "\t- [I] Could add visual indicators for different node states\n",
    "\t- [ ] Write tests for highlighting edge cases\n",
    "\"\"\"\n",
    "\n",
    "print(markdown)"
   ]
  },
  {
   "cell_type": "code",
   "execution_count": 116,
   "metadata": {},
   "outputs": [
    {
     "name": "stdout",
     "output_type": "stream",
     "text": [
      "- [g] Add syntax highlighting for Cannonball markdown ^feature3\n",
      "\t- [?] Which library should we use for highlighting? ^q1\n",
      "\t\t- [a] Use Prism.js ^alt1\n",
      "\t\t\t- [o] Has good React integration\n",
      "\t\t\t- [P] May need custom language definition\n",
      "\t\t\t\t- [ ] Research custom grammar in Prism\n",
      "\t\t- [a] Use highlight.js ^alt2\n",
      "\t\t\t- [o] More lightweight\n",
      "\t\t\t- [o] Easier to customize\n",
      "\t\t- [D] Selected ^alt2\n",
      "\t- [ ] Implement syntax highlighting component\n",
      "\t\t- This will be a React component\n",
      "\t\t- [/] Create basic highlighter class\n",
      "\t\t- [ ] Add custom rules for node types\n",
      "\t\t- [ ] Connect to rendering pipeline\n",
      "\t- [I] Could add visual indicators for different node states\n",
      "\t- [ ] Write tests for highlighting edge cases\n",
      "\n",
      "----------------------------------------\n",
      "- [g] Add syntax highlighting for Cannonball markdown ^feature3\n",
      "\t- [?] Which library should we use for highlighting? ^q1\n",
      "\t\t- [a] Use Prism.js ^alt1\n",
      "\t\t\t- [o] Has good React integration\n",
      "\t\t\t- [P] May need custom language definition\n",
      "\t\t\t\t- [ ] Research custom grammar in Prism\n",
      "\t\t- [a] Use highlight.js ^alt2\n",
      "\t\t\t- [o] More lightweight\n",
      "\t\t\t- [o] Easier to customize\n",
      "\t\t- [D] Selected ^alt2\n",
      "\t- [ ] Implement syntax highlighting component\n",
      "\t\t- This will be a React component\n",
      "\t\t- [/] Create basic highlighter class\n",
      "\t\t- [ ] Add custom rules for node types\n",
      "\t\t- [ ] Connect to rendering pipeline\n",
      "\t- [I] Could add visual indicators for different node states\n",
      "\t- [ ] Write tests for highlighting edge cases\n"
     ]
    }
   ],
   "source": [
    "from cannonball.utils import walk_list_items, print_ast\n",
    "from marko import Markdown\n",
    "\n",
    "mdparser = Markdown()\n",
    "ast = mdparser.parse(markdown)\n",
    "print(markdown)\n",
    "print(\"-\" * 40)\n",
    "print_ast(ast)"
   ]
  },
  {
   "cell_type": "code",
   "execution_count": 117,
   "metadata": {},
   "outputs": [],
   "source": [
    "from cannonball.utils import get_raw_text_from_listtem\n",
    "\n",
    "lis = list(walk_list_items(ast))\n",
    "output_str = \"\"\n",
    "for item, parent, level in lis:\n",
    "    output_str += \"\\t\" * level + \"- \" + get_raw_text_from_listtem(item) + \"\\n\"\n",
    "\n",
    "assert output_str == markdown, \"Markdown and output not the same!\""
   ]
  },
  {
   "cell_type": "code",
   "execution_count": 121,
   "metadata": {},
   "outputs": [
    {
     "name": "stdout",
     "output_type": "stream",
     "text": [
      "('g', 'Add syntax highlighting for Cannonball markdown ^fea', 'feature3')\n",
      "('?', 'Which library should we use for highlighting? ^q1', 'q1')\n",
      "('a', 'Use Prism.js ^alt', 'alt1')\n",
      "('o', 'Has good React integration', None)\n",
      "('P', 'May need custom language definition', None)\n",
      "(' ', 'Research custom grammar in Prism', None)\n",
      "('a', 'Use highlight.js ^alt', 'alt2')\n",
      "('o', 'More lightweight', None)\n",
      "('o', 'Easier to customize', None)\n",
      "('D', 'Selected ^alt', 'alt2')\n",
      "(' ', 'Implement syntax highlighting component', None)\n",
      "('unknown', 'This will be a React component', None)\n",
      "('/', 'Create basic highlighter class', None)\n",
      "(' ', 'Add custom rules for node types', None)\n",
      "(' ', 'Connect to rendering pipeline', None)\n",
      "('I', 'Could add visual indicators for different node states', None)\n",
      "(' ', 'Write tests for highlighting edge cases', None)\n"
     ]
    }
   ],
   "source": [
    "from cannonball.utils import extract_node_type_and_ref\n",
    "\n",
    "lis = list(\n",
    "    walk_list_items(\n",
    "        ast,\n",
    "        apply_fn=lambda i, _p, _2: extract_node_type_and_ref(\n",
    "            get_raw_text_from_listtem(i)\n",
    "        ),\n",
    "    )\n",
    ")\n",
    "\n",
    "for li in lis:\n",
    "    print(li)"
   ]
  },
  {
   "cell_type": "code",
   "execution_count": null,
   "metadata": {},
   "outputs": [
    {
     "name": "stdout",
     "output_type": "stream",
     "text": [
      "Graph has 0 nodes and 0 edges\n",
      "Nodes:\n",
      "\n",
      "Edges (parent → child):\n"
     ]
    }
   ],
   "source": [
    "from marko import Markdown\n",
    "from marko.block import ListItem\n",
    "from itertools import count\n",
    "import networkx as nx\n",
    "\n",
    "\n",
    "def process_list_item(item: ListItem, graph: nx.DiGraph, counter, parent_id=None):\n",
    "    \"\"\"Process a ListItem node and add it to the graph with appropriate edges.\"\"\"\n",
    "\n",
    "    assert isinstance(item, ListItem), \"Expected a ListItem node\"\n",
    "\n",
    "    # Get the text content of the paragraph in the list item\n",
    "    paragraph = item.children[0]\n",
    "    text = paragraph.children[0].children\n",
    "\n",
    "    # Extract node type, content, and reference ID\n",
    "    node_type, content, ref = extract_node_type_and_ref(text)\n",
    "\n",
    "    # Create a unique node ID\n",
    "    node_id = next(counter)\n",
    "\n",
    "    # Add node to graph with attributes\n",
    "    graph.add_node(node_id, type=node_type, content=content, ref=ref)\n",
    "\n",
    "    # Connect to parent if exists\n",
    "    if parent_id is not None:\n",
    "        graph.add_edge(parent_id, node_id)\n",
    "\n",
    "    # Process children recursively if they exist\n",
    "    if len(item.children) > 1 and hasattr(item.children[1], \"children\"):\n",
    "        child_list = item.children[1]\n",
    "        for child_item in child_list.children:\n",
    "            process_list_item(child_item, graph, counter, node_id)\n",
    "\n",
    "    return node_id\n",
    "\n",
    "\n",
    "def build_graph_from_ast(ast):\n",
    "    \"\"\"Build a NetworkX graph from a Marko AST.\"\"\"\n",
    "    graph = nx.DiGraph()\n",
    "    counter = count()\n",
    "\n",
    "    # Start with the top-level list\n",
    "    for child in ast.children:\n",
    "        # if child is of type ListItem, process it\n",
    "        if isinstance(child, ListItem):\n",
    "            process_list_item(child, graph, counter)\n",
    "\n",
    "    # Post-processing: connect nodes based on reference IDs\n",
    "    # Create a mapping of refs to node_ids\n",
    "    # ref_mapping = {data[\"ref\"]: node_id for node_id, data in graph.nodes(data=True) if data[\"ref\"] is not None}\n",
    "\n",
    "    # # Look for references in the content and create edges\n",
    "    # for node_id, data in graph.nodes(data=True):\n",
    "    #     if data[\"content\"]:\n",
    "    #         for ref in re.finditer(r\"\\^(\\w+)\", data[\"content\"]):\n",
    "    #             ref = ref.group(1)\n",
    "    #             if ref in ref_mapping and ref_mapping[ref] != node_id:  # Avoid self-loops\n",
    "    #                 referenced_node = ref_mapping[ref]\n",
    "    #                 # Add an edge to the referenced node\n",
    "    #                 graph.add_edge(node_id, referenced_node)\n",
    "\n",
    "    return graph\n",
    "\n",
    "\n",
    "# Parse the markdown\n",
    "markdown_text = \"\"\"\n",
    "- [g] Add syntax highlighting for Cannonball markdown ^feature3\n",
    "\t- [?] Which library should we use for highlighting? ^q1\n",
    "\t\t- [a] Use Prism.js ^alt1\n",
    "\t\t\t- [o] Has good React integration\n",
    "\t\t\t- [P] May need custom language definition\n",
    "\t\t\t\t- [ ] Research custom grammar in Prism\n",
    "\t\t- [a] Use highlight.js ^alt2\n",
    "\t\t\t- [o] More lightweight\n",
    "\t\t\t- [o] Easier to customize\n",
    "\t\t- [D] Selected ^alt2\n",
    "\t- [ ] Implement syntax highlighting component\n",
    "\t\t- [/] Create basic highlighter class\n",
    "\t\t- [ ] Add custom rules for node types\n",
    "\t\t- [ ] Connect to rendering pipeline\n",
    "\t- [I] Could add visual indicators for different node states\n",
    "\t- [ ] Write tests for highlighting edge cases\n",
    "\"\"\"\n",
    "\n",
    "mdparser = Markdown()\n",
    "ast = mdparser.parse(markdown_text)\n",
    "\n",
    "# Build the graph\n",
    "graph = build_graph_from_ast(ast)\n",
    "\n",
    "# Analyze the resulting graph\n",
    "print(f\"Graph has {graph.number_of_nodes()} nodes and {graph.number_of_edges()} edges\")\n",
    "print(\"Nodes:\")\n",
    "for node_id, attrs in graph.nodes(data=True):\n",
    "    print(f\"Node {node_id}: [{attrs['type']}] {attrs['content']} (ref: {attrs['ref']})\")\n",
    "\n",
    "print(\"\\nEdges (parent → child):\")\n",
    "for source, target in graph.edges():\n",
    "    source_type = graph.nodes[source][\"type\"]\n",
    "    target_type = graph.nodes[target][\"type\"]\n",
    "    print(f\"Node {source} [{source_type}] → Node {target} [{target_type}]\")"
   ]
  },
  {
   "cell_type": "code",
   "execution_count": null,
   "metadata": {},
   "outputs": [],
   "source": [
    "# Confirm it is a DAG\n",
    "assert nx.is_directed_acyclic_graph(graph), \"Graph is not a DAG\"\n",
    "\n",
    "# Topological sort of DAGs\n",
    "list(nx.topological_sort(graph))"
   ]
  },
  {
   "cell_type": "code",
   "execution_count": 35,
   "metadata": {},
   "outputs": [
    {
     "name": "stdout",
     "output_type": "stream",
     "text": [
      "[(2, 1, 'forward'), (1, 2, 'forward')]\n"
     ]
    },
    {
     "data": {
      "image/png": "[encoded data removed]",
      "text/plain": [
       "<Figure size 640x480 with 1 Axes>"
      ]
     },
     "metadata": {},
     "output_type": "display_data"
    }
   ],
   "source": [
    "# Draw graph\n",
    "pos = nx.spring_layout(graph, seed=8020)\n",
    "nx.draw(\n",
    "    graph,\n",
    "    pos,\n",
    "    with_labels=True,\n",
    ")\n",
    "\n",
    "# Detect cycles\n",
    "\n",
    "# The `orientation` parameter can be used to determine how directed edges are\n",
    "# treated and the reporting of edge direction in the cycle\n",
    "try:\n",
    "    cycle = nx.find_cycle(graph, orientation=\"original\")\n",
    "    # Highlight the cycle in red\n",
    "    nx.draw_networkx_edges(graph, pos, edgelist=cycle, edge_color=\"r\", width=2)\n",
    "except nx.NetworkXNoCycle:\n",
    "    pass\n",
    "\n",
    "print(cycle)"
   ]
  }
 ],
 "metadata": {
  "kernelspec": {
   "display_name": ".venv",
   "language": "python",
   "name": "python3"
  },
  "language_info": {
   "codemirror_mode": {
    "name": "ipython",
    "version": 3
   },
   "file_extension": ".py",
   "mimetype": "text/x-python",
   "name": "python",
   "nbconvert_exporter": "python",
   "pygments_lexer": "ipython3",
   "version": "3.11.9"
  }
 },
 "nbformat": 4,
 "nbformat_minor": 2
}
