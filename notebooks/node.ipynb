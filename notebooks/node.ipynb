{
 "cells": [
  {
   "cell_type": "code",
   "execution_count": 14,
   "metadata": {},
   "outputs": [
    {
     "data": {
      "text/plain": [
       "'[?] Can you expand this into subtasks?'"
      ]
     },
     "execution_count": 14,
     "metadata": {},
     "output_type": "execute_result"
    }
   ],
   "source": [
    "from cannonball import Node\n",
    "\n",
    "root = Node.from_markdown(\"\"\"\\\n",
    "- [ ] Task 1\n",
    "    - [ ] Task 2\n",
    "        - [?] Can you expand this into subtasks?\n",
    "    - [ ] Task 3\n",
    "\"\"\")\n",
    "\n",
    "root.to_list_item()\n",
    "\n",
    "question = root.find_by_name(\"Can you\")\n",
    "str(question)"
   ]
  },
  {
   "cell_type": "code",
   "execution_count": 19,
   "metadata": {},
   "outputs": [
    {
     "name": "stdout",
     "output_type": "stream",
     "text": [
      "- Foo\n",
      "x\n",
      "- Bar\n",
      "\n"
     ]
    }
   ],
   "source": [
    "from marko.block import ListItem\n",
    "from marko import Markdown\n",
    "from marko.md_renderer import MarkdownRenderer\n",
    "\n",
    "renderer = MarkdownRenderer()\n",
    "\n",
    "md = \"\"\"\\\n",
    "- Foo\n",
    "x\n",
    "\n",
    "- Bar\n",
    "\"\"\"\n",
    "parser = Markdown()\n",
    "ast = parser.parse(md)\n",
    "output = renderer.render(ast)\n",
    "\n",
    "print(output)\n"
   ]
  }
 ],
 "metadata": {
  "kernelspec": {
   "display_name": ".venv",
   "language": "python",
   "name": "python3"
  },
  "language_info": {
   "codemirror_mode": {
    "name": "ipython",
    "version": 3
   },
   "file_extension": ".py",
   "mimetype": "text/x-python",
   "name": "python",
   "nbconvert_exporter": "python",
   "pygments_lexer": "ipython3",
   "version": "3.11.9"
  }
 },
 "nbformat": 4,
 "nbformat_minor": 2
}
