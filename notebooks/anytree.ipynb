{
 "cells": [
  {
   "cell_type": "code",
   "execution_count": null,
   "metadata": {},
   "outputs": [],
   "source": [
    "from anytree import RenderTree\n",
    "from cannonball.nodes import Task, Bullet\n",
    "\n",
    "# Create root node\n",
    "root = Task(\"ProjectX\")\n",
    "\n",
    "# Create child Tasks\n",
    "task1 = Task(\"Implement API\", parent=root)\n",
    "task2 = Task(\"Write Documentation\", parent=root)\n",
    "\n",
    "# Create nested children\n",
    "subtask1 = Task(\"Design Endpoints\", parent=task1)\n",
    "subtask2 = Task(\"Implement Authentication\", parent=task1)\n",
    "subtask3 = Task(\"Backend Requirements\", parent=subtask1)\n",
    "bullet = Bullet(\"API\", parent=subtask1)\n",
    "subtask4 = Task(\"API Implementation\", parent=bullet)\n",
    "subtask5 = Task(\"API Testing\", parent=bullet)\n",
    "\n",
    "subtask3.complete()\n",
    "subtask4.complete()\n",
    "# subtask5.complete()\n",
    "# print(subtask1.complete())\n",
    "\n",
    "# Print the tree\n",
    "for pre, _, node in RenderTree(root):\n",
    "    print(f\"{pre}{node}\")"
   ]
  },
  {
   "cell_type": "code",
   "execution_count": null,
   "metadata": {},
   "outputs": [
    {
     "ename": "NameError",
     "evalue": "name 'Task' is not defined",
     "output_type": "error",
     "traceback": [
      "\u001b[31m---------------------------------------------------------------------------\u001b[39m",
      "\u001b[31mNameError\u001b[39m                                 Traceback (most recent call last)",
      "\u001b[36mCell\u001b[39m\u001b[36m \u001b[39m\u001b[32mIn[32]\u001b[39m\u001b[32m, line 7\u001b[39m\n\u001b[32m      4\u001b[39m question = Question(\u001b[33m\"\u001b[39m\u001b[33mWhat graph library should I use?\u001b[39m\u001b[33m\"\u001b[39m)\n\u001b[32m      6\u001b[39m bullet1 = Bullet(\u001b[33m\"\u001b[39m\u001b[33mNetworkX\u001b[39m\u001b[33m\"\u001b[39m, parent=question)\n\u001b[32m----> \u001b[39m\u001b[32m7\u001b[39m task1 = \u001b[43mTask\u001b[49m(\u001b[33m\"\u001b[39m\u001b[33mCheck documentation\u001b[39m\u001b[33m\"\u001b[39m, parent=bullet1)\n\u001b[32m      8\u001b[39m bullet2 = Bullet(\u001b[33m\"\u001b[39m\u001b[33mGraph-tool\u001b[39m\u001b[33m\"\u001b[39m, parent=question)\n\u001b[32m      9\u001b[39m bullet3 = Bullet(\u001b[33m\"\u001b[39m\u001b[33migraph\u001b[39m\u001b[33m\"\u001b[39m, parent=question)\n",
      "\u001b[31mNameError\u001b[39m: name 'Task' is not defined"
     ]
    }
   ],
   "source": [
    "from cannonball.nodes import Question, Answer, Bullet, Task\n",
    "\n",
    "# Create root node\n",
    "question = Question(\"What graph library should I use?\")\n",
    "\n",
    "bullet1 = Bullet(\"NetworkX\", parent=question)\n",
    "task1 = Task(\"Check documentation\", parent=bullet1)\n",
    "bullet2 = Bullet(\"Graph-tool\", parent=question)\n",
    "bullet3 = Bullet(\"igraph\", parent=question)\n",
    "\n",
    "# task1.start()\n",
    "# task1.complete()\n",
    "answer = Answer(\"NetworkX\", parent=question)\n",
    "# decision = Decision(\"NetworkX\", parent=question)\n",
    "# decision.state = NodeState.COMPLETED\n",
    "\n",
    "# Print the tree\n",
    "for pre, _, node in RenderTree(question):\n",
    "    print(f\"{pre}{node}\")"
   ]
  },
  {
   "cell_type": "code",
   "execution_count": 30,
   "metadata": {},
   "outputs": [
    {
     "name": "stdout",
     "output_type": "stream",
     "text": [
      "[!] Task 1\n",
      "├── [/] Task 2\n",
      "│   ├── I'm just a bullet\n",
      "│   └── [/] Task 2.1\n",
      "└── [!] Task 3\n",
      "    └── [?!] How do I solve this?\n",
      "        └── [A] I don't\n",
      "            └── [!] Task 4\n"
     ]
    }
   ],
   "source": [
    "from cannonball.nodes import parse_markdown\n",
    "from anytree import RenderTree\n",
    "from anytree.search import find_by_attr\n",
    "\n",
    "markdown = \"\"\"\\\n",
    "- [ ] Task 1\n",
    "    - [ ] Task 2\n",
    "        - I'm just a bullet\n",
    "        - [ ] Task 2.1\n",
    "    - [ ] Task 3\n",
    "        - [?] How do I solve this?\n",
    "            - [A] I don't\n",
    "                - [ ] Task 4\n",
    "\"\"\"\n",
    "\n",
    "root = parse_markdown(markdown)\n",
    "\n",
    "find_by_attr(root, \"Task 2\").complete()\n",
    "find_by_attr(root, \"Task 2.1\").start()\n",
    "find_by_attr(root, \"Task 4\").block()\n",
    "\n",
    "# Print the tree\n",
    "for pre, _, node in RenderTree(root):\n",
    "    print(f\"{pre}{node}\")"
   ]
  }
 ],
 "metadata": {
  "kernelspec": {
   "display_name": ".venv",
   "language": "python",
   "name": "python3"
  },
  "language_info": {
   "codemirror_mode": {
    "name": "ipython",
    "version": 3
   },
   "file_extension": ".py",
   "mimetype": "text/x-python",
   "name": "python",
   "nbconvert_exporter": "python",
   "pygments_lexer": "ipython3",
   "version": "3.11.9"
  }
 },
 "nbformat": 4,
 "nbformat_minor": 2
}
