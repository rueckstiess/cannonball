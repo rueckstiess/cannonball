{
 "cells": [
  {
   "cell_type": "code",
   "execution_count": null,
   "metadata": {},
   "outputs": [
    {
     "name": "stdout",
     "output_type": "stream",
     "text": [
      "ProjectX (blocked)\n",
      "├── Implement API (blocked)\n",
      "│   ├── Design Endpoints (open)\n",
      "│   ├── Implement Authentication (open)\n",
      "│   ├── Test API (completed)\n",
      "│   └── Test API (blocked)\n",
      "└── Write Documentation (open)\n"
     ]
    }
   ],
   "source": [
    "from anytree import RenderTree\n",
    "from cannonball.nodes import Task\n",
    "\n",
    "# Create root node\n",
    "root = Task(\"ProjectX\")\n",
    "\n",
    "# Create child Tasks\n",
    "task1 = Task(\"Implement API\", parent=root)\n",
    "task2 = Task(\"Write Documentation\", parent=root)\n",
    "\n",
    "# Create nested children\n",
    "subtask1 = Task(\"Design Endpoints\", parent=task1)\n",
    "subtask2 = Task(\"Implement Authentication\", parent=task1)\n",
    "subtask3 = Task(\"Test API\", parent=task1)\n",
    "subtask4 = Task(\"Test API\", parent=task1)\n",
    "\n",
    "subtask3.complete()\n",
    "subtask4.block()\n",
    "\n",
    "# Print the tree\n",
    "for pre, _, node in RenderTree(root):\n",
    "    print(f\"{pre}{node}\")"
   ]
  },
  {
   "cell_type": "code",
   "execution_count": 26,
   "metadata": {},
   "outputs": [
    {
     "data": {
      "text/plain": [
       "Task(ProjectX, state=open)"
      ]
     },
     "execution_count": 26,
     "metadata": {},
     "output_type": "execute_result"
    }
   ],
   "source": [
    "# Get root from child\n",
    "\n",
    "subtask3.root"
   ]
  }
 ],
 "metadata": {
  "kernelspec": {
   "display_name": ".venv",
   "language": "python",
   "name": "python3"
  },
  "language_info": {
   "codemirror_mode": {
    "name": "ipython",
    "version": 3
   },
   "file_extension": ".py",
   "mimetype": "text/x-python",
   "name": "python",
   "nbconvert_exporter": "python",
   "pygments_lexer": "ipython3",
   "version": "3.11.9"
  }
 },
 "nbformat": 4,
 "nbformat_minor": 2
}
