{
 "cells": [
  {
   "cell_type": "code",
   "execution_count": 9,
   "metadata": {},
   "outputs": [
    {
     "name": "stdout",
     "output_type": "stream",
     "text": [
      "[/] ProjectX\n",
      "├── [/] Implement API\n",
      "│   ├── [✓] Design Endpoints\n",
      "│   │   ├── [✓] Backend Requirements\n",
      "│   │   └── API\n",
      "│   │       ├── [✓] API Implementation\n",
      "│   │       └── [ ] API Testing\n",
      "│   └── [ ] Implement Authentication\n",
      "└── [ ] Write Documentation\n"
     ]
    }
   ],
   "source": [
    "from anytree import RenderTree\n",
    "from cannonball.nodes import Task, Bullet\n",
    "\n",
    "# Create root node\n",
    "root = Task(\"ProjectX\")\n",
    "\n",
    "# Create child Tasks\n",
    "task1 = Task(\"Implement API\", parent=root)\n",
    "task2 = Task(\"Write Documentation\", parent=root)\n",
    "\n",
    "# Create nested children\n",
    "subtask1 = Task(\"Design Endpoints\", parent=task1)\n",
    "subtask2 = Task(\"Implement Authentication\", parent=task1)\n",
    "subtask3 = Task(\"Backend Requirements\", parent=subtask1)\n",
    "bullet = Bullet(\"API\", parent=subtask1)\n",
    "subtask4 = Task(\"API Implementation\", parent=bullet)\n",
    "subtask5 = Task(\"API Testing\", parent=bullet)\n",
    "\n",
    "subtask3.complete()\n",
    "subtask4.complete()\n",
    "# subtask5.complete()\n",
    "# print(subtask1.complete())\n",
    "\n",
    "# Print the tree\n",
    "for pre, _, node in RenderTree(root):\n",
    "    print(f\"{pre}{node}\")"
   ]
  },
  {
   "cell_type": "code",
   "execution_count": 10,
   "metadata": {},
   "outputs": [
    {
     "name": "stdout",
     "output_type": "stream",
     "text": [
      "[?✓] What graph library should I use?\n",
      "├── NetworkX\n",
      "│   └── [ ] Check documentation\n",
      "├── Graph-tool\n",
      "├── igraph\n",
      "└── [A] NetworkX\n"
     ]
    }
   ],
   "source": [
    "from cannonball.nodes import Question, Answer, Bullet, Task\n",
    "\n",
    "# Create root node\n",
    "question = Question(\"What graph library should I use?\")\n",
    "\n",
    "bullet1 = Bullet(\"NetworkX\", parent=question)\n",
    "task1 = Task(\"Check documentation\", parent=bullet1)\n",
    "bullet2 = Bullet(\"Graph-tool\", parent=question)\n",
    "bullet3 = Bullet(\"igraph\", parent=question)\n",
    "\n",
    "# task1.start()\n",
    "# task1.complete()\n",
    "answer = Answer(\"NetworkX\", parent=question)\n",
    "# decision = Decision(\"NetworkX\", parent=question)\n",
    "# decision.state = NodeState.COMPLETED\n",
    "\n",
    "# Print the tree\n",
    "for pre, _, node in RenderTree(question):\n",
    "    print(f\"{pre}{node}\")"
   ]
  },
  {
   "cell_type": "code",
   "execution_count": 1,
   "metadata": {},
   "outputs": [
    {
     "name": "stdout",
     "output_type": "stream",
     "text": [
      "[!] Task 1\n",
      "├── [/] Task 2\n",
      "│   ├── I'm just a bullet\n",
      "│   └── [/] Task 2.1\n",
      "└── [!] Task 3\n",
      "    └── [?!] How do I solve this?\n",
      "        └── [A] I don't\n",
      "            └── [!] Task 4\n"
     ]
    }
   ],
   "source": [
    "from cannonball.nodes import parse_markdown\n",
    "from anytree import RenderTree\n",
    "from anytree.search import find_by_attr\n",
    "\n",
    "markdown = \"\"\"\\\n",
    "        - [ ] Task 1\n",
    "            - [ ] Task 2\n",
    "                - I'm just a bullet\n",
    "                - [ ] Task 2.1\n",
    "            - [ ] Task 3\n",
    "                - [?] How do I solve this?\n",
    "                    - [A] I don't\n",
    "                        - [ ] Task 4\n",
    "\"\"\"\n",
    "\n",
    "root = parse_markdown(markdown)\n",
    "\n",
    "find_by_attr(root, \"Task 2\").complete()\n",
    "find_by_attr(root, \"Task 2.1\").start()\n",
    "find_by_attr(root, \"Task 4\").block()\n",
    "\n",
    "# Print the tree\n",
    "for pre, _, node in RenderTree(root):\n",
    "    print(f\"{pre}{node}\")"
   ]
  },
  {
   "cell_type": "code",
   "execution_count": 1,
   "metadata": {},
   "outputs": [
    {
     "ename": "LoopError",
     "evalue": "Cannot set parent. Node('/root') is parent of Node('/root/child').",
     "output_type": "error",
     "traceback": [
      "\u001b[31m---------------------------------------------------------------------------\u001b[39m",
      "\u001b[31mLoopError\u001b[39m                                 Traceback (most recent call last)",
      "\u001b[36mCell\u001b[39m\u001b[36m \u001b[39m\u001b[32mIn[1]\u001b[39m\u001b[32m, line 6\u001b[39m\n\u001b[32m      4\u001b[39m child = Node(\u001b[33m\"\u001b[39m\u001b[33mchild\u001b[39m\u001b[33m\"\u001b[39m, parent=root)\n\u001b[32m      5\u001b[39m \u001b[38;5;66;03m# This will raise LoopError:\u001b[39;00m\n\u001b[32m----> \u001b[39m\u001b[32m6\u001b[39m \u001b[43mroot\u001b[49m\u001b[43m.\u001b[49m\u001b[43mparent\u001b[49m = child\n",
      "\u001b[36mFile \u001b[39m\u001b[32m~/code/research-assistant/cannonball/.venv/lib/python3.11/site-packages/anytree/node/nodemixin.py:133\u001b[39m, in \u001b[36mNodeMixin.parent\u001b[39m\u001b[34m(self, value)\u001b[39m\n\u001b[32m    131\u001b[39m     parent = \u001b[38;5;28;01mNone\u001b[39;00m\n\u001b[32m    132\u001b[39m \u001b[38;5;28;01mif\u001b[39;00m parent \u001b[38;5;129;01mis\u001b[39;00m \u001b[38;5;129;01mnot\u001b[39;00m value:\n\u001b[32m--> \u001b[39m\u001b[32m133\u001b[39m     \u001b[38;5;28;43mself\u001b[39;49m\u001b[43m.\u001b[49m\u001b[43m__check_loop\u001b[49m\u001b[43m(\u001b[49m\u001b[43mvalue\u001b[49m\u001b[43m)\u001b[49m\n\u001b[32m    134\u001b[39m     \u001b[38;5;28mself\u001b[39m.__detach(parent)\n\u001b[32m    135\u001b[39m     \u001b[38;5;28mself\u001b[39m.__attach(value)\n",
      "\u001b[36mFile \u001b[39m\u001b[32m~/code/research-assistant/cannonball/.venv/lib/python3.11/site-packages/anytree/node/nodemixin.py:144\u001b[39m, in \u001b[36mNodeMixin.__check_loop\u001b[39m\u001b[34m(self, node)\u001b[39m\n\u001b[32m    142\u001b[39m \u001b[38;5;28;01mif\u001b[39;00m \u001b[38;5;28many\u001b[39m(child \u001b[38;5;129;01mis\u001b[39;00m \u001b[38;5;28mself\u001b[39m \u001b[38;5;28;01mfor\u001b[39;00m child \u001b[38;5;129;01min\u001b[39;00m node.iter_path_reverse()):\n\u001b[32m    143\u001b[39m     msg = \u001b[33m\"\u001b[39m\u001b[33mCannot set parent. \u001b[39m\u001b[38;5;132;01m%r\u001b[39;00m\u001b[33m is parent of \u001b[39m\u001b[38;5;132;01m%r\u001b[39;00m\u001b[33m.\u001b[39m\u001b[33m\"\u001b[39m\n\u001b[32m--> \u001b[39m\u001b[32m144\u001b[39m     \u001b[38;5;28;01mraise\u001b[39;00m LoopError(msg % (\u001b[38;5;28mself\u001b[39m, node))\n",
      "\u001b[31mLoopError\u001b[39m: Cannot set parent. Node('/root') is parent of Node('/root/child')."
     ]
    }
   ],
   "source": [
    "from anytree import Node\n",
    "\n",
    "root = Node(\"root\")\n",
    "child = Node(\"child\", parent=root)\n",
    "# This will raise LoopError:\n",
    "root.parent = child"
   ]
  }
 ],
 "metadata": {
  "kernelspec": {
   "display_name": ".venv",
   "language": "python",
   "name": "python3"
  },
  "language_info": {
   "codemirror_mode": {
    "name": "ipython",
    "version": 3
   },
   "file_extension": ".py",
   "mimetype": "text/x-python",
   "name": "python",
   "nbconvert_exporter": "python",
   "pygments_lexer": "ipython3",
   "version": "3.11.9"
  }
 },
 "nbformat": 4,
 "nbformat_minor": 2
}
