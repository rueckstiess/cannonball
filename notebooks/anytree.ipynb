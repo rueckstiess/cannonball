{
 "cells": [
  {
   "cell_type": "code",
   "execution_count": 9,
   "metadata": {},
   "outputs": [
    {
     "name": "stdout",
     "output_type": "stream",
     "text": [
      "[/] ProjectX\n",
      "├── [/] Implement API\n",
      "│   ├── [✓] Design Endpoints\n",
      "│   │   ├── [✓] Backend Requirements\n",
      "│   │   └── API\n",
      "│   │       ├── [✓] API Implementation\n",
      "│   │       └── [ ] API Testing\n",
      "│   └── [ ] Implement Authentication\n",
      "└── [ ] Write Documentation\n"
     ]
    }
   ],
   "source": [
    "from anytree import RenderTree\n",
    "from cannonball.nodes import Task, Bullet\n",
    "\n",
    "# Create root node\n",
    "root = Task(\"ProjectX\")\n",
    "\n",
    "# Create child Tasks\n",
    "task1 = Task(\"Implement API\", parent=root)\n",
    "task2 = Task(\"Write Documentation\", parent=root)\n",
    "\n",
    "# Create nested children\n",
    "subtask1 = Task(\"Design Endpoints\", parent=task1)\n",
    "subtask2 = Task(\"Implement Authentication\", parent=task1)\n",
    "subtask3 = Task(\"Backend Requirements\", parent=subtask1)\n",
    "bullet = Bullet(\"API\", parent=subtask1)\n",
    "subtask4 = Task(\"API Implementation\", parent=bullet)\n",
    "subtask5 = Task(\"API Testing\", parent=bullet)\n",
    "\n",
    "subtask3.complete()\n",
    "subtask4.complete()\n",
    "# subtask5.complete()\n",
    "# print(subtask1.complete())\n",
    "\n",
    "# Print the tree\n",
    "for pre, _, node in RenderTree(root):\n",
    "    print(f\"{pre}{node}\")"
   ]
  },
  {
   "cell_type": "code",
   "execution_count": 10,
   "metadata": {},
   "outputs": [
    {
     "name": "stdout",
     "output_type": "stream",
     "text": [
      "[?✓] What graph library should I use?\n",
      "├── NetworkX\n",
      "│   └── [ ] Check documentation\n",
      "├── Graph-tool\n",
      "├── igraph\n",
      "└── [A] NetworkX\n"
     ]
    }
   ],
   "source": [
    "from cannonball.nodes import Question, Answer, Bullet, Task\n",
    "\n",
    "# Create root node\n",
    "question = Question(\"What graph library should I use?\")\n",
    "\n",
    "bullet1 = Bullet(\"NetworkX\", parent=question)\n",
    "task1 = Task(\"Check documentation\", parent=bullet1)\n",
    "bullet2 = Bullet(\"Graph-tool\", parent=question)\n",
    "bullet3 = Bullet(\"igraph\", parent=question)\n",
    "\n",
    "# task1.start()\n",
    "# task1.complete()\n",
    "answer = Answer(\"NetworkX\", parent=question)\n",
    "# decision = Decision(\"NetworkX\", parent=question)\n",
    "# decision.state = NodeState.COMPLETED\n",
    "\n",
    "# Print the tree\n",
    "for pre, _, node in RenderTree(question):\n",
    "    print(f\"{pre}{node}\")\n"
   ]
  },
  {
   "cell_type": "code",
   "execution_count": 12,
   "metadata": {},
   "outputs": [
    {
     "name": "stdout",
     "output_type": "stream",
     "text": [
      "[!] Task 1\n",
      "├── [/] Task 2\n",
      "│   ├── I'm just a bullet\n",
      "│   └── [/] Task 2.1\n",
      "└── [!] Task 3\n",
      "    └── [?!] How do I solve this?\n",
      "        └── [A] I don't\n",
      "            └── [!] Task 4\n"
     ]
    }
   ],
   "source": [
    "from cannonball.nodes import parse_markdown\n",
    "from anytree import RenderTree\n",
    "from anytree.search import find_by_attr\n",
    "\n",
    "markdown = \"\"\"\\\n",
    "        - [ ] Task 1\n",
    "            - [ ] Task 2\n",
    "                - I'm just a bullet\n",
    "                - [ ] Task 2.1\n",
    "            - [ ] Task 3\n",
    "                - [?] How do I solve this?\n",
    "                    - [A] I don't\n",
    "                        - [ ] Task 4\n",
    "\"\"\"\n",
    "\n",
    "root = parse_markdown(markdown)\n",
    "\n",
    "find_by_attr(root, \"Task 2\").complete()\n",
    "find_by_attr(root, \"Task 2.1\").start()\n",
    "find_by_attr(root, \"Task 4\").block()\n",
    "\n",
    "# Print the tree\n",
    "for pre, _, node in RenderTree(root):\n",
    "    print(f\"{pre}{node}\")"
   ]
  }
 ],
 "metadata": {
  "kernelspec": {
   "display_name": ".venv",
   "language": "python",
   "name": "python3"
  },
  "language_info": {
   "codemirror_mode": {
    "name": "ipython",
    "version": 3
   },
   "file_extension": ".py",
   "mimetype": "text/x-python",
   "name": "python",
   "nbconvert_exporter": "python",
   "pygments_lexer": "ipython3",
   "version": "3.11.9"
  }
 },
 "nbformat": 4,
 "nbformat_minor": 2
}
