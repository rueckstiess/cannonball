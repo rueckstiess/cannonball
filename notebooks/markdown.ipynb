{
 "cells": [
  {
   "cell_type": "code",
   "execution_count": 35,
   "metadata": {},
   "outputs": [],
   "source": [
    "markdown = \"\"\"\n",
    "- [ ] I am a toplevel node\n",
    "\"\"\""
   ]
  },
  {
   "cell_type": "code",
   "execution_count": 39,
   "metadata": {},
   "outputs": [
    {
     "name": "stdout",
     "output_type": "stream",
     "text": [
      "Document\n",
      "  BlankLine\n",
      "  List\n",
      "    ListItem\n",
      "      Paragraph\n",
      "        RawText: [ ] I am a toplevel node\n"
     ]
    }
   ],
   "source": [
    "from marko import Markdown\n",
    "from marko.inline import RawText\n",
    "from marko.block import BlockElement\n",
    "from marko.ext.gfm.elements import Paragraph\n",
    "\n",
    "import inspect\n",
    "\n",
    "md = Markdown()\n",
    "ast = md.parse(markdown)\n",
    "# ast = gfm.parse(markdown)\n",
    "\n",
    "\n",
    "def print_ast(node, indent=0):\n",
    "    if isinstance(node, str):\n",
    "        return\n",
    "    if isinstance(node, RawText):\n",
    "        print(\"  \" * indent + str(node.__class__.__name__) + \": \" + node.children)\n",
    "    elif isinstance(node, Paragraph):\n",
    "        # print all attributes of the paragraph using inspect\n",
    "        print(\"  \" * indent + str(node.__class__.__name__) + \":\")\n",
    "        for name, value in inspect.getmembers(node):\n",
    "            if not name.startswith(\"_\"):\n",
    "                print(\"  \" * (indent + 1) + str(name) + \": \" + str(value))\n",
    "    else:\n",
    "        print(\"  \" * indent + str(node.__class__.__name__))\n",
    "\n",
    "    if hasattr(node, \"children\"):\n",
    "        for child in node.children:\n",
    "            print_ast(child, indent + 1)\n",
    "\n",
    "\n",
    "print_ast(ast)"
   ]
  },
  {
   "cell_type": "code",
   "execution_count": null,
   "metadata": {},
   "outputs": [],
   "source": [
    "def get_task_list(ast): \n",
    "    "
   ]
  }
 ],
 "metadata": {
  "kernelspec": {
   "display_name": ".venv",
   "language": "python",
   "name": "python3"
  },
  "language_info": {
   "codemirror_mode": {
    "name": "ipython",
    "version": 3
   },
   "file_extension": ".py",
   "mimetype": "text/x-python",
   "name": "python",
   "nbconvert_exporter": "python",
   "pygments_lexer": "ipython3",
   "version": "3.11.9"
  }
 },
 "nbformat": 4,
 "nbformat_minor": 2
}
