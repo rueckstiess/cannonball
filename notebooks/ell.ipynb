{
 "cells": [
  {
   "cell_type": "code",
   "execution_count": 1,
   "metadata": {},
   "outputs": [
    {
     "data": {
      "text/plain": [
       "'Hello, Sam Altman! It’s great to have you here. How can I assist you today?'"
      ]
     },
     "execution_count": 1,
     "metadata": {},
     "output_type": "execute_result"
    }
   ],
   "source": [
    "import ell\n",
    "\n",
    "\n",
    "@ell.simple(model=\"gpt-4o-mini\")\n",
    "def hello(world: str):\n",
    "    \"\"\"You are a helpful assistant\"\"\"  # System prompt\n",
    "    name = world.capitalize()\n",
    "    return f\"Say hello to {name}!\"  # User prompt\n",
    "\n",
    "\n",
    "hello(\"sam altman\")  # just a str, \"Hello Sam Altman! ...\"\n"
   ]
  }
 ],
 "metadata": {
  "kernelspec": {
   "display_name": ".venv",
   "language": "python",
   "name": "python3"
  },
  "language_info": {
   "codemirror_mode": {
    "name": "ipython",
    "version": 3
   },
   "file_extension": ".py",
   "mimetype": "text/x-python",
   "name": "python",
   "nbconvert_exporter": "python",
   "pygments_lexer": "ipython3",
   "version": "3.11.9"
  }
 },
 "nbformat": 4,
 "nbformat_minor": 2
}
